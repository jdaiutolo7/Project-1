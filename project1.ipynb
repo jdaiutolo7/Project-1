{
 "cells": [
  {
   "cell_type": "code",
   "execution_count": 31,
   "metadata": {},
   "outputs": [
    {
     "data": {
      "text/html": [
       "<div>\n",
       "<style scoped>\n",
       "    .dataframe tbody tr th:only-of-type {\n",
       "        vertical-align: middle;\n",
       "    }\n",
       "\n",
       "    .dataframe tbody tr th {\n",
       "        vertical-align: top;\n",
       "    }\n",
       "\n",
       "    .dataframe thead th {\n",
       "        text-align: right;\n",
       "    }\n",
       "</style>\n",
       "<table border=\"1\" class=\"dataframe\">\n",
       "  <thead>\n",
       "    <tr style=\"text-align: right;\">\n",
       "      <th></th>\n",
       "      <th>id</th>\n",
       "      <th>host_id</th>\n",
       "      <th>host_name</th>\n",
       "      <th>neighbourhood_cleansed</th>\n",
       "      <th>neighbourhood_group_cleansed</th>\n",
       "      <th>latitude</th>\n",
       "      <th>longitude</th>\n",
       "      <th>property_type</th>\n",
       "      <th>room_type</th>\n",
       "      <th>accommodates</th>\n",
       "      <th>...</th>\n",
       "      <th>bedrooms</th>\n",
       "      <th>beds</th>\n",
       "      <th>price</th>\n",
       "      <th>number_of_reviews</th>\n",
       "      <th>review_scores_accuracy</th>\n",
       "      <th>review_scores_cleanliness</th>\n",
       "      <th>review_scores_checkin</th>\n",
       "      <th>review_scores_communication</th>\n",
       "      <th>review_scores_location</th>\n",
       "      <th>review_scores_value</th>\n",
       "    </tr>\n",
       "  </thead>\n",
       "  <tbody>\n",
       "    <tr>\n",
       "      <th>0</th>\n",
       "      <td>8.017500e+17</td>\n",
       "      <td>495455523</td>\n",
       "      <td>Michael</td>\n",
       "      <td>Canarsie</td>\n",
       "      <td>Brooklyn</td>\n",
       "      <td>40.640403</td>\n",
       "      <td>-73.888535</td>\n",
       "      <td>Private room in home</td>\n",
       "      <td>Private room</td>\n",
       "      <td>2</td>\n",
       "      <td>...</td>\n",
       "      <td>1.0</td>\n",
       "      <td>1.0</td>\n",
       "      <td>$143.00</td>\n",
       "      <td>0</td>\n",
       "      <td>NaN</td>\n",
       "      <td>NaN</td>\n",
       "      <td>NaN</td>\n",
       "      <td>NaN</td>\n",
       "      <td>NaN</td>\n",
       "      <td>NaN</td>\n",
       "    </tr>\n",
       "    <tr>\n",
       "      <th>1</th>\n",
       "      <td>7.659490e+17</td>\n",
       "      <td>488760226</td>\n",
       "      <td>Eric</td>\n",
       "      <td>Canarsie</td>\n",
       "      <td>Brooklyn</td>\n",
       "      <td>40.648510</td>\n",
       "      <td>-73.894330</td>\n",
       "      <td>Private room in rental unit</td>\n",
       "      <td>Private room</td>\n",
       "      <td>1</td>\n",
       "      <td>...</td>\n",
       "      <td>1.0</td>\n",
       "      <td>1.0</td>\n",
       "      <td>$30.00</td>\n",
       "      <td>13</td>\n",
       "      <td>4.77</td>\n",
       "      <td>4.77</td>\n",
       "      <td>4.85</td>\n",
       "      <td>4.92</td>\n",
       "      <td>4.85</td>\n",
       "      <td>4.92</td>\n",
       "    </tr>\n",
       "    <tr>\n",
       "      <th>2</th>\n",
       "      <td>6.362740e+17</td>\n",
       "      <td>461263600</td>\n",
       "      <td>Tommaso</td>\n",
       "      <td>Tottenville</td>\n",
       "      <td>Staten Island</td>\n",
       "      <td>40.507114</td>\n",
       "      <td>-74.251907</td>\n",
       "      <td>Entire villa</td>\n",
       "      <td>Entire home/apt</td>\n",
       "      <td>6</td>\n",
       "      <td>...</td>\n",
       "      <td>2.0</td>\n",
       "      <td>2.0</td>\n",
       "      <td>$157.00</td>\n",
       "      <td>0</td>\n",
       "      <td>NaN</td>\n",
       "      <td>NaN</td>\n",
       "      <td>NaN</td>\n",
       "      <td>NaN</td>\n",
       "      <td>NaN</td>\n",
       "      <td>NaN</td>\n",
       "    </tr>\n",
       "    <tr>\n",
       "      <th>3</th>\n",
       "      <td>7.681250e+17</td>\n",
       "      <td>475699129</td>\n",
       "      <td>Suliman</td>\n",
       "      <td>Sheepshead Bay</td>\n",
       "      <td>Brooklyn</td>\n",
       "      <td>40.583490</td>\n",
       "      <td>-73.959880</td>\n",
       "      <td>Private room in home</td>\n",
       "      <td>Private room</td>\n",
       "      <td>2</td>\n",
       "      <td>...</td>\n",
       "      <td>3.0</td>\n",
       "      <td>1.0</td>\n",
       "      <td>$89.00</td>\n",
       "      <td>15</td>\n",
       "      <td>5.00</td>\n",
       "      <td>4.87</td>\n",
       "      <td>5.00</td>\n",
       "      <td>5.00</td>\n",
       "      <td>5.00</td>\n",
       "      <td>5.00</td>\n",
       "    </tr>\n",
       "    <tr>\n",
       "      <th>4</th>\n",
       "      <td>4.924826e+07</td>\n",
       "      <td>397288055</td>\n",
       "      <td>Katherine</td>\n",
       "      <td>North Riverdale</td>\n",
       "      <td>Bronx</td>\n",
       "      <td>40.903260</td>\n",
       "      <td>-73.907090</td>\n",
       "      <td>Entire rental unit</td>\n",
       "      <td>Entire home/apt</td>\n",
       "      <td>3</td>\n",
       "      <td>...</td>\n",
       "      <td>2.0</td>\n",
       "      <td>2.0</td>\n",
       "      <td>$125.00</td>\n",
       "      <td>25</td>\n",
       "      <td>4.56</td>\n",
       "      <td>4.44</td>\n",
       "      <td>4.72</td>\n",
       "      <td>4.88</td>\n",
       "      <td>4.72</td>\n",
       "      <td>4.64</td>\n",
       "    </tr>\n",
       "  </tbody>\n",
       "</table>\n",
       "<p>5 rows × 21 columns</p>\n",
       "</div>"
      ],
      "text/plain": [
       "             id    host_id  host_name neighbourhood_cleansed  \\\n",
       "0  8.017500e+17  495455523    Michael               Canarsie   \n",
       "1  7.659490e+17  488760226       Eric               Canarsie   \n",
       "2  6.362740e+17  461263600    Tommaso            Tottenville   \n",
       "3  7.681250e+17  475699129    Suliman         Sheepshead Bay   \n",
       "4  4.924826e+07  397288055  Katherine        North Riverdale   \n",
       "\n",
       "  neighbourhood_group_cleansed   latitude  longitude  \\\n",
       "0                     Brooklyn  40.640403 -73.888535   \n",
       "1                     Brooklyn  40.648510 -73.894330   \n",
       "2                Staten Island  40.507114 -74.251907   \n",
       "3                     Brooklyn  40.583490 -73.959880   \n",
       "4                        Bronx  40.903260 -73.907090   \n",
       "\n",
       "                 property_type        room_type  accommodates  ... bedrooms  \\\n",
       "0         Private room in home     Private room             2  ...      1.0   \n",
       "1  Private room in rental unit     Private room             1  ...      1.0   \n",
       "2                 Entire villa  Entire home/apt             6  ...      2.0   \n",
       "3         Private room in home     Private room             2  ...      3.0   \n",
       "4           Entire rental unit  Entire home/apt             3  ...      2.0   \n",
       "\n",
       "   beds     price number_of_reviews  review_scores_accuracy  \\\n",
       "0   1.0  $143.00                  0                     NaN   \n",
       "1   1.0   $30.00                 13                    4.77   \n",
       "2   2.0  $157.00                  0                     NaN   \n",
       "3   1.0   $89.00                 15                    5.00   \n",
       "4   2.0  $125.00                 25                    4.56   \n",
       "\n",
       "   review_scores_cleanliness  review_scores_checkin  \\\n",
       "0                        NaN                    NaN   \n",
       "1                       4.77                   4.85   \n",
       "2                        NaN                    NaN   \n",
       "3                       4.87                   5.00   \n",
       "4                       4.44                   4.72   \n",
       "\n",
       "   review_scores_communication  review_scores_location  review_scores_value  \n",
       "0                          NaN                     NaN                  NaN  \n",
       "1                         4.92                    4.85                 4.92  \n",
       "2                          NaN                     NaN                  NaN  \n",
       "3                         5.00                    5.00                 5.00  \n",
       "4                         4.88                    4.72                 4.64  \n",
       "\n",
       "[5 rows x 21 columns]"
      ]
     },
     "execution_count": 31,
     "metadata": {},
     "output_type": "execute_result"
    }
   ],
   "source": [
    "#Import libraries\n",
    "from pathlib import Path\n",
    "import pandas as pd\n",
    "import numpy as np\n",
    "import matplotlib.pyplot as plt\n",
    "from datetime import datetime\n",
    "import plotly.express as px\n",
    "import plotly.graph_objects as go\n",
    "from plotly.subplots import make_subplots\n",
    "\n",
    "\n",
    "\n",
    "\n",
    "\n",
    "# Store filepath in a variable\n",
    "file = Path(\"Resources/NewYorkAirBnB.csv\")\n",
    "file_df = pd.read_csv(file)\n",
    "file_df.head()"
   ]
  },
  {
   "cell_type": "code",
   "execution_count": 32,
   "metadata": {},
<<<<<<< HEAD
   "outputs": [],
   "source": [
    "# Generating a bar plot showing the total number of AirBnB reservations for each of the five boroughs in NYC using pyplot.\n",
    "boroughs = nyc_boroughs.index.values\n",
    "reservations = airbnb_per_borough.values\n",
    "\n",
    "#graph build and display\n",
    "plt.bar(boroughs, count, color=\"b\", align=\"center\")\n",
    "plt.xlabel('NYC Boroughs')\n",
    "plt.ylabel('Number of AirBnB')\n",
    "plt.xticks(rotation=90)\n",
    "plt.show()"
=======
   "outputs": [
    {
     "data": {
      "text/html": [
       "<div>\n",
       "<style scoped>\n",
       "    .dataframe tbody tr th:only-of-type {\n",
       "        vertical-align: middle;\n",
       "    }\n",
       "\n",
       "    .dataframe tbody tr th {\n",
       "        vertical-align: top;\n",
       "    }\n",
       "\n",
       "    .dataframe thead th {\n",
       "        text-align: right;\n",
       "    }\n",
       "</style>\n",
       "<table border=\"1\" class=\"dataframe\">\n",
       "  <thead>\n",
       "    <tr style=\"text-align: right;\">\n",
       "      <th></th>\n",
       "      <th>host_id</th>\n",
       "      <th>host_name</th>\n",
       "      <th>price</th>\n",
       "      <th>number_of_reviews</th>\n",
       "      <th>neighbourhood_cleansed</th>\n",
       "      <th>neighbourhood_group_cleansed</th>\n",
       "      <th>review_scores_accuracy</th>\n",
       "      <th>review_scores_cleanliness</th>\n",
       "      <th>review_scores_checkin</th>\n",
       "      <th>review_scores_value</th>\n",
       "      <th>review_scores_location</th>\n",
       "    </tr>\n",
       "  </thead>\n",
       "  <tbody>\n",
       "    <tr>\n",
       "      <th>0</th>\n",
       "      <td>495455523</td>\n",
       "      <td>Michael</td>\n",
       "      <td>$143.00</td>\n",
       "      <td>0</td>\n",
       "      <td>Canarsie</td>\n",
       "      <td>Brooklyn</td>\n",
       "      <td>NaN</td>\n",
       "      <td>NaN</td>\n",
       "      <td>NaN</td>\n",
       "      <td>NaN</td>\n",
       "      <td>NaN</td>\n",
       "    </tr>\n",
       "    <tr>\n",
       "      <th>1</th>\n",
       "      <td>488760226</td>\n",
       "      <td>Eric</td>\n",
       "      <td>$30.00</td>\n",
       "      <td>13</td>\n",
       "      <td>Canarsie</td>\n",
       "      <td>Brooklyn</td>\n",
       "      <td>4.77</td>\n",
       "      <td>4.77</td>\n",
       "      <td>4.85</td>\n",
       "      <td>4.92</td>\n",
       "      <td>4.85</td>\n",
       "    </tr>\n",
       "    <tr>\n",
       "      <th>2</th>\n",
       "      <td>461263600</td>\n",
       "      <td>Tommaso</td>\n",
       "      <td>$157.00</td>\n",
       "      <td>0</td>\n",
       "      <td>Tottenville</td>\n",
       "      <td>Staten Island</td>\n",
       "      <td>NaN</td>\n",
       "      <td>NaN</td>\n",
       "      <td>NaN</td>\n",
       "      <td>NaN</td>\n",
       "      <td>NaN</td>\n",
       "    </tr>\n",
       "    <tr>\n",
       "      <th>3</th>\n",
       "      <td>475699129</td>\n",
       "      <td>Suliman</td>\n",
       "      <td>$89.00</td>\n",
       "      <td>15</td>\n",
       "      <td>Sheepshead Bay</td>\n",
       "      <td>Brooklyn</td>\n",
       "      <td>5.00</td>\n",
       "      <td>4.87</td>\n",
       "      <td>5.00</td>\n",
       "      <td>5.00</td>\n",
       "      <td>5.00</td>\n",
       "    </tr>\n",
       "    <tr>\n",
       "      <th>4</th>\n",
       "      <td>397288055</td>\n",
       "      <td>Katherine</td>\n",
       "      <td>$125.00</td>\n",
       "      <td>25</td>\n",
       "      <td>North Riverdale</td>\n",
       "      <td>Bronx</td>\n",
       "      <td>4.56</td>\n",
       "      <td>4.44</td>\n",
       "      <td>4.72</td>\n",
       "      <td>4.64</td>\n",
       "      <td>4.72</td>\n",
       "    </tr>\n",
       "    <tr>\n",
       "      <th>...</th>\n",
       "      <td>...</td>\n",
       "      <td>...</td>\n",
       "      <td>...</td>\n",
       "      <td>...</td>\n",
       "      <td>...</td>\n",
       "      <td>...</td>\n",
       "      <td>...</td>\n",
       "      <td>...</td>\n",
       "      <td>...</td>\n",
       "      <td>...</td>\n",
       "      <td>...</td>\n",
       "    </tr>\n",
       "    <tr>\n",
       "      <th>42926</th>\n",
       "      <td>90429772</td>\n",
       "      <td>Hanna</td>\n",
       "      <td>$85.00</td>\n",
       "      <td>0</td>\n",
       "      <td>East Village</td>\n",
       "      <td>Manhattan</td>\n",
       "      <td>NaN</td>\n",
       "      <td>NaN</td>\n",
       "      <td>NaN</td>\n",
       "      <td>NaN</td>\n",
       "      <td>NaN</td>\n",
       "    </tr>\n",
       "    <tr>\n",
       "      <th>42927</th>\n",
       "      <td>264962468</td>\n",
       "      <td>Mili</td>\n",
       "      <td>$208.00</td>\n",
       "      <td>217</td>\n",
       "      <td>Hell's Kitchen</td>\n",
       "      <td>Manhattan</td>\n",
       "      <td>4.58</td>\n",
       "      <td>4.41</td>\n",
       "      <td>4.65</td>\n",
       "      <td>4.51</td>\n",
       "      <td>4.91</td>\n",
       "    </tr>\n",
       "    <tr>\n",
       "      <th>42928</th>\n",
       "      <td>305489297</td>\n",
       "      <td>Stavros</td>\n",
       "      <td>$125.00</td>\n",
       "      <td>7</td>\n",
       "      <td>Lower East Side</td>\n",
       "      <td>Manhattan</td>\n",
       "      <td>4.43</td>\n",
       "      <td>3.29</td>\n",
       "      <td>4.86</td>\n",
       "      <td>4.14</td>\n",
       "      <td>5.00</td>\n",
       "    </tr>\n",
       "    <tr>\n",
       "      <th>42929</th>\n",
       "      <td>6600525</td>\n",
       "      <td>Quentin</td>\n",
       "      <td>$50.00</td>\n",
       "      <td>0</td>\n",
       "      <td>Bushwick</td>\n",
       "      <td>Brooklyn</td>\n",
       "      <td>NaN</td>\n",
       "      <td>NaN</td>\n",
       "      <td>NaN</td>\n",
       "      <td>NaN</td>\n",
       "      <td>NaN</td>\n",
       "    </tr>\n",
       "    <tr>\n",
       "      <th>42930</th>\n",
       "      <td>219517861</td>\n",
       "      <td>Sonder (NYC)</td>\n",
       "      <td>$338.00</td>\n",
       "      <td>82</td>\n",
       "      <td>Flatiron District</td>\n",
       "      <td>Manhattan</td>\n",
       "      <td>4.73</td>\n",
       "      <td>4.67</td>\n",
       "      <td>4.65</td>\n",
       "      <td>4.55</td>\n",
       "      <td>4.90</td>\n",
       "    </tr>\n",
       "  </tbody>\n",
       "</table>\n",
       "<p>42931 rows × 11 columns</p>\n",
       "</div>"
      ],
      "text/plain": [
       "         host_id     host_name     price  number_of_reviews  \\\n",
       "0      495455523       Michael  $143.00                   0   \n",
       "1      488760226          Eric   $30.00                  13   \n",
       "2      461263600       Tommaso  $157.00                   0   \n",
       "3      475699129       Suliman   $89.00                  15   \n",
       "4      397288055     Katherine  $125.00                  25   \n",
       "...          ...           ...       ...                ...   \n",
       "42926   90429772         Hanna   $85.00                   0   \n",
       "42927  264962468          Mili  $208.00                 217   \n",
       "42928  305489297       Stavros  $125.00                   7   \n",
       "42929    6600525       Quentin   $50.00                   0   \n",
       "42930  219517861  Sonder (NYC)  $338.00                  82   \n",
       "\n",
       "      neighbourhood_cleansed neighbourhood_group_cleansed  \\\n",
       "0                   Canarsie                     Brooklyn   \n",
       "1                   Canarsie                     Brooklyn   \n",
       "2                Tottenville                Staten Island   \n",
       "3             Sheepshead Bay                     Brooklyn   \n",
       "4            North Riverdale                        Bronx   \n",
       "...                      ...                          ...   \n",
       "42926           East Village                    Manhattan   \n",
       "42927         Hell's Kitchen                    Manhattan   \n",
       "42928        Lower East Side                    Manhattan   \n",
       "42929               Bushwick                     Brooklyn   \n",
       "42930      Flatiron District                    Manhattan   \n",
       "\n",
       "       review_scores_accuracy  review_scores_cleanliness  \\\n",
       "0                         NaN                        NaN   \n",
       "1                        4.77                       4.77   \n",
       "2                         NaN                        NaN   \n",
       "3                        5.00                       4.87   \n",
       "4                        4.56                       4.44   \n",
       "...                       ...                        ...   \n",
       "42926                     NaN                        NaN   \n",
       "42927                    4.58                       4.41   \n",
       "42928                    4.43                       3.29   \n",
       "42929                     NaN                        NaN   \n",
       "42930                    4.73                       4.67   \n",
       "\n",
       "       review_scores_checkin  review_scores_value  review_scores_location  \n",
       "0                        NaN                  NaN                     NaN  \n",
       "1                       4.85                 4.92                    4.85  \n",
       "2                        NaN                  NaN                     NaN  \n",
       "3                       5.00                 5.00                    5.00  \n",
       "4                       4.72                 4.64                    4.72  \n",
       "...                      ...                  ...                     ...  \n",
       "42926                    NaN                  NaN                     NaN  \n",
       "42927                   4.65                 4.51                    4.91  \n",
       "42928                   4.86                 4.14                    5.00  \n",
       "42929                    NaN                  NaN                     NaN  \n",
       "42930                   4.65                 4.55                    4.90  \n",
       "\n",
       "[42931 rows x 11 columns]"
      ]
     },
     "execution_count": 32,
     "metadata": {},
     "output_type": "execute_result"
    }
   ],
   "source": [
    "#getting thoes colunms which is required for analysis of hosts \n",
    "\n",
    "file_df_filter=file_df.loc[:,['host_id','host_name','price','number_of_reviews','neighbourhood_cleansed','neighbourhood_group_cleansed','review_scores_accuracy','review_scores_cleanliness','review_scores_checkin','review_scores_value','review_scores_location']]\n",
    "file_df_filter  "
>>>>>>> c7ac5215a7b68d953f6f61abe0cccebad2b71206
   ]
  },
  {
   "cell_type": "code",
   "execution_count": 33,
   "metadata": {},
<<<<<<< HEAD
   "outputs": [],
   "source": [
    "# Generating a pie plot showing the distribution of AirBnB reservations per borough using pyplot\n",
    "sex_label = male_v_female.index.values\n",
    "count_value = male_v_female.values\n",
    "plt.ylabel(\"AirBnB Reservations by NYC Boroughs\")\n",
    "plt.pie(count_value, labels = sex_label, autopct=\"%1.0f%%\")\n",
    "plt.show()"
=======
   "outputs": [
    {
     "data": {
      "text/plain": [
       "id                                  0\n",
       "host_id                             0\n",
       "host_name                           5\n",
       "neighbourhood_cleansed              0\n",
       "neighbourhood_group_cleansed        0\n",
       "latitude                            0\n",
       "longitude                           0\n",
       "property_type                       0\n",
       "room_type                           0\n",
       "accommodates                        0\n",
       "bathrooms_text                     75\n",
       "bedrooms                         3874\n",
       "beds                              929\n",
       "price                               0\n",
       "number_of_reviews                   0\n",
       "review_scores_accuracy          10739\n",
       "review_scores_cleanliness       10729\n",
       "review_scores_checkin           10743\n",
       "review_scores_communication     10734\n",
       "review_scores_location          10746\n",
       "review_scores_value             10746\n",
       "dtype: int64"
      ]
     },
     "execution_count": 33,
     "metadata": {},
     "output_type": "execute_result"
    }
   ],
   "source": [
    "#checking total of null or NAN values or unknown data \n",
    "file_df.isnull().sum()"
   ]
  },
  {
   "cell_type": "code",
   "execution_count": 34,
   "metadata": {},
   "outputs": [
    {
     "data": {
      "text/html": [
       "<div>\n",
       "<style scoped>\n",
       "    .dataframe tbody tr th:only-of-type {\n",
       "        vertical-align: middle;\n",
       "    }\n",
       "\n",
       "    .dataframe tbody tr th {\n",
       "        vertical-align: top;\n",
       "    }\n",
       "\n",
       "    .dataframe thead th {\n",
       "        text-align: right;\n",
       "    }\n",
       "</style>\n",
       "<table border=\"1\" class=\"dataframe\">\n",
       "  <thead>\n",
       "    <tr style=\"text-align: right;\">\n",
       "      <th></th>\n",
       "      <th>host_id</th>\n",
       "      <th>host_name</th>\n",
       "      <th>price</th>\n",
       "      <th>number_of_reviews</th>\n",
       "      <th>neighbourhood_cleansed</th>\n",
       "      <th>neighbourhood_group_cleansed</th>\n",
       "      <th>review_scores_accuracy</th>\n",
       "      <th>review_scores_cleanliness</th>\n",
       "      <th>review_scores_checkin</th>\n",
       "      <th>review_scores_value</th>\n",
       "      <th>review_scores_location</th>\n",
       "    </tr>\n",
       "  </thead>\n",
       "  <tbody>\n",
       "    <tr>\n",
       "      <th>0</th>\n",
       "      <td>495455523</td>\n",
       "      <td>Michael</td>\n",
       "      <td>$143.00</td>\n",
       "      <td>0</td>\n",
       "      <td>Canarsie</td>\n",
       "      <td>Brooklyn</td>\n",
       "      <td>NaN</td>\n",
       "      <td>NaN</td>\n",
       "      <td>NaN</td>\n",
       "      <td>0.00</td>\n",
       "      <td>NaN</td>\n",
       "    </tr>\n",
       "    <tr>\n",
       "      <th>1</th>\n",
       "      <td>488760226</td>\n",
       "      <td>Eric</td>\n",
       "      <td>$30.00</td>\n",
       "      <td>13</td>\n",
       "      <td>Canarsie</td>\n",
       "      <td>Brooklyn</td>\n",
       "      <td>4.77</td>\n",
       "      <td>4.77</td>\n",
       "      <td>4.85</td>\n",
       "      <td>4.92</td>\n",
       "      <td>4.85</td>\n",
       "    </tr>\n",
       "    <tr>\n",
       "      <th>2</th>\n",
       "      <td>461263600</td>\n",
       "      <td>Tommaso</td>\n",
       "      <td>$157.00</td>\n",
       "      <td>0</td>\n",
       "      <td>Tottenville</td>\n",
       "      <td>Staten Island</td>\n",
       "      <td>NaN</td>\n",
       "      <td>NaN</td>\n",
       "      <td>NaN</td>\n",
       "      <td>0.00</td>\n",
       "      <td>NaN</td>\n",
       "    </tr>\n",
       "    <tr>\n",
       "      <th>3</th>\n",
       "      <td>475699129</td>\n",
       "      <td>Suliman</td>\n",
       "      <td>$89.00</td>\n",
       "      <td>15</td>\n",
       "      <td>Sheepshead Bay</td>\n",
       "      <td>Brooklyn</td>\n",
       "      <td>5.00</td>\n",
       "      <td>4.87</td>\n",
       "      <td>5.00</td>\n",
       "      <td>5.00</td>\n",
       "      <td>5.00</td>\n",
       "    </tr>\n",
       "    <tr>\n",
       "      <th>4</th>\n",
       "      <td>397288055</td>\n",
       "      <td>Katherine</td>\n",
       "      <td>$125.00</td>\n",
       "      <td>25</td>\n",
       "      <td>North Riverdale</td>\n",
       "      <td>Bronx</td>\n",
       "      <td>4.56</td>\n",
       "      <td>4.44</td>\n",
       "      <td>4.72</td>\n",
       "      <td>4.64</td>\n",
       "      <td>4.72</td>\n",
       "    </tr>\n",
       "    <tr>\n",
       "      <th>...</th>\n",
       "      <td>...</td>\n",
       "      <td>...</td>\n",
       "      <td>...</td>\n",
       "      <td>...</td>\n",
       "      <td>...</td>\n",
       "      <td>...</td>\n",
       "      <td>...</td>\n",
       "      <td>...</td>\n",
       "      <td>...</td>\n",
       "      <td>...</td>\n",
       "      <td>...</td>\n",
       "    </tr>\n",
       "    <tr>\n",
       "      <th>42926</th>\n",
       "      <td>90429772</td>\n",
       "      <td>Hanna</td>\n",
       "      <td>$85.00</td>\n",
       "      <td>0</td>\n",
       "      <td>East Village</td>\n",
       "      <td>Manhattan</td>\n",
       "      <td>NaN</td>\n",
       "      <td>NaN</td>\n",
       "      <td>NaN</td>\n",
       "      <td>0.00</td>\n",
       "      <td>NaN</td>\n",
       "    </tr>\n",
       "    <tr>\n",
       "      <th>42927</th>\n",
       "      <td>264962468</td>\n",
       "      <td>Mili</td>\n",
       "      <td>$208.00</td>\n",
       "      <td>217</td>\n",
       "      <td>Hell's Kitchen</td>\n",
       "      <td>Manhattan</td>\n",
       "      <td>4.58</td>\n",
       "      <td>4.41</td>\n",
       "      <td>4.65</td>\n",
       "      <td>4.51</td>\n",
       "      <td>4.91</td>\n",
       "    </tr>\n",
       "    <tr>\n",
       "      <th>42928</th>\n",
       "      <td>305489297</td>\n",
       "      <td>Stavros</td>\n",
       "      <td>$125.00</td>\n",
       "      <td>7</td>\n",
       "      <td>Lower East Side</td>\n",
       "      <td>Manhattan</td>\n",
       "      <td>4.43</td>\n",
       "      <td>3.29</td>\n",
       "      <td>4.86</td>\n",
       "      <td>4.14</td>\n",
       "      <td>5.00</td>\n",
       "    </tr>\n",
       "    <tr>\n",
       "      <th>42929</th>\n",
       "      <td>6600525</td>\n",
       "      <td>Quentin</td>\n",
       "      <td>$50.00</td>\n",
       "      <td>0</td>\n",
       "      <td>Bushwick</td>\n",
       "      <td>Brooklyn</td>\n",
       "      <td>NaN</td>\n",
       "      <td>NaN</td>\n",
       "      <td>NaN</td>\n",
       "      <td>0.00</td>\n",
       "      <td>NaN</td>\n",
       "    </tr>\n",
       "    <tr>\n",
       "      <th>42930</th>\n",
       "      <td>219517861</td>\n",
       "      <td>Sonder (NYC)</td>\n",
       "      <td>$338.00</td>\n",
       "      <td>82</td>\n",
       "      <td>Flatiron District</td>\n",
       "      <td>Manhattan</td>\n",
       "      <td>4.73</td>\n",
       "      <td>4.67</td>\n",
       "      <td>4.65</td>\n",
       "      <td>4.55</td>\n",
       "      <td>4.90</td>\n",
       "    </tr>\n",
       "  </tbody>\n",
       "</table>\n",
       "<p>42926 rows × 11 columns</p>\n",
       "</div>"
      ],
      "text/plain": [
       "         host_id     host_name     price  number_of_reviews  \\\n",
       "0      495455523       Michael  $143.00                   0   \n",
       "1      488760226          Eric   $30.00                  13   \n",
       "2      461263600       Tommaso  $157.00                   0   \n",
       "3      475699129       Suliman   $89.00                  15   \n",
       "4      397288055     Katherine  $125.00                  25   \n",
       "...          ...           ...       ...                ...   \n",
       "42926   90429772         Hanna   $85.00                   0   \n",
       "42927  264962468          Mili  $208.00                 217   \n",
       "42928  305489297       Stavros  $125.00                   7   \n",
       "42929    6600525       Quentin   $50.00                   0   \n",
       "42930  219517861  Sonder (NYC)  $338.00                  82   \n",
       "\n",
       "      neighbourhood_cleansed neighbourhood_group_cleansed  \\\n",
       "0                   Canarsie                     Brooklyn   \n",
       "1                   Canarsie                     Brooklyn   \n",
       "2                Tottenville                Staten Island   \n",
       "3             Sheepshead Bay                     Brooklyn   \n",
       "4            North Riverdale                        Bronx   \n",
       "...                      ...                          ...   \n",
       "42926           East Village                    Manhattan   \n",
       "42927         Hell's Kitchen                    Manhattan   \n",
       "42928        Lower East Side                    Manhattan   \n",
       "42929               Bushwick                     Brooklyn   \n",
       "42930      Flatiron District                    Manhattan   \n",
       "\n",
       "       review_scores_accuracy  review_scores_cleanliness  \\\n",
       "0                         NaN                        NaN   \n",
       "1                        4.77                       4.77   \n",
       "2                         NaN                        NaN   \n",
       "3                        5.00                       4.87   \n",
       "4                        4.56                       4.44   \n",
       "...                       ...                        ...   \n",
       "42926                     NaN                        NaN   \n",
       "42927                    4.58                       4.41   \n",
       "42928                    4.43                       3.29   \n",
       "42929                     NaN                        NaN   \n",
       "42930                    4.73                       4.67   \n",
       "\n",
       "       review_scores_checkin  review_scores_value  review_scores_location  \n",
       "0                        NaN                 0.00                     NaN  \n",
       "1                       4.85                 4.92                    4.85  \n",
       "2                        NaN                 0.00                     NaN  \n",
       "3                       5.00                 5.00                    5.00  \n",
       "4                       4.72                 4.64                    4.72  \n",
       "...                      ...                  ...                     ...  \n",
       "42926                    NaN                 0.00                     NaN  \n",
       "42927                   4.65                 4.51                    4.91  \n",
       "42928                   4.86                 4.14                    5.00  \n",
       "42929                    NaN                 0.00                     NaN  \n",
       "42930                   4.65                 4.55                    4.90  \n",
       "\n",
       "[42926 rows x 11 columns]"
      ]
     },
     "execution_count": 34,
     "metadata": {},
     "output_type": "execute_result"
    }
   ],
   "source": [
    "#converting NAN value to 0.00 ex : for \"review_scores_value\" and removing blank rows by \"host name\"\n",
    "file_df_filter.fillna({'review_scores_value':0}, inplace=True)\n",
    "file_df_filter.dropna(subset=['host_name'],inplace=True)\n",
    "file_df_filter"
   ]
  },
  {
   "cell_type": "code",
   "execution_count": 35,
   "metadata": {},
   "outputs": [
    {
     "data": {
      "text/plain": [
       "host_id                             0\n",
       "host_name                           0\n",
       "price                               0\n",
       "number_of_reviews                   0\n",
       "neighbourhood_cleansed              0\n",
       "neighbourhood_group_cleansed        0\n",
       "review_scores_accuracy          10735\n",
       "review_scores_cleanliness       10725\n",
       "review_scores_checkin           10739\n",
       "review_scores_value                 0\n",
       "review_scores_location          10742\n",
       "dtype: int64"
      ]
     },
     "execution_count": 35,
     "metadata": {},
     "output_type": "execute_result"
    }
   ],
   "source": [
    "#checking null or NAN values or unknown data after the updating review score value to 0.00 and removed 5 rows by host name\n",
    "file_df_filter.isnull().sum()"
   ]
  },
  {
   "cell_type": "code",
   "execution_count": 36,
   "metadata": {},
   "outputs": [
    {
     "name": "stdout",
     "output_type": "stream",
     "text": [
      "<class 'pandas.core.series.Series'>\n",
      "<class 'pandas.core.series.Series'>\n",
      "<class 'pandas.core.series.Series'>\n",
      "<class 'pandas.core.series.Series'>\n",
      "<class 'pandas.core.series.Series'>\n",
      "<class 'pandas.core.series.Series'>\n",
      "<class 'pandas.core.series.Series'>\n",
      "<class 'pandas.core.series.Series'>\n",
      "<class 'pandas.core.series.Series'>\n",
      "<class 'pandas.core.series.Series'>\n"
     ]
    }
   ],
   "source": [
    "#filtered and clean data.\n",
    "print(type(file_df_filter[\"host_id\"]))\n",
    "print(type(file_df_filter['host_name']))\n",
    "print(type(file_df_filter[\"price\"]))\n",
    "print(type(file_df_filter[\"number_of_reviews\"]))\n",
    "print(type(file_df_filter['neighbourhood_cleansed']))\n",
    "print(type(file_df_filter['neighbourhood_group_cleansed']))\n",
    "print(type(file_df_filter[\"review_scores_accuracy\"]))\n",
    "print(type(file_df_filter[\"review_scores_cleanliness\"]))\n",
    "print(type(file_df_filter['review_scores_checkin']))\n",
    "print(type(file_df_filter['review_scores_location']))"
   ]
  },
  {
   "cell_type": "code",
   "execution_count": 37,
   "metadata": {},
   "outputs": [
    {
     "data": {
      "text/html": [
       "<div>\n",
       "<style scoped>\n",
       "    .dataframe tbody tr th:only-of-type {\n",
       "        vertical-align: middle;\n",
       "    }\n",
       "\n",
       "    .dataframe tbody tr th {\n",
       "        vertical-align: top;\n",
       "    }\n",
       "\n",
       "    .dataframe thead th {\n",
       "        text-align: right;\n",
       "    }\n",
       "</style>\n",
       "<table border=\"1\" class=\"dataframe\">\n",
       "  <thead>\n",
       "    <tr style=\"text-align: right;\">\n",
       "      <th></th>\n",
       "      <th>host_id</th>\n",
       "      <th>host_name</th>\n",
       "      <th>price</th>\n",
       "      <th>number_of_reviews</th>\n",
       "      <th>neighbourhood_cleansed</th>\n",
       "      <th>neighbourhood_group_cleansed</th>\n",
       "      <th>review_scores_accuracy</th>\n",
       "      <th>review_scores_cleanliness</th>\n",
       "      <th>review_scores_checkin</th>\n",
       "      <th>review_scores_value</th>\n",
       "      <th>review_scores_location</th>\n",
       "    </tr>\n",
       "  </thead>\n",
       "  <tbody>\n",
       "    <tr>\n",
       "      <th>0</th>\n",
       "      <td>495455523</td>\n",
       "      <td>Michael</td>\n",
       "      <td>$143.00</td>\n",
       "      <td>0</td>\n",
       "      <td>Canarsie</td>\n",
       "      <td>Brooklyn</td>\n",
       "      <td>NaN</td>\n",
       "      <td>NaN</td>\n",
       "      <td>NaN</td>\n",
       "      <td>0.00</td>\n",
       "      <td>NaN</td>\n",
       "    </tr>\n",
       "    <tr>\n",
       "      <th>1</th>\n",
       "      <td>488760226</td>\n",
       "      <td>Eric</td>\n",
       "      <td>$30.00</td>\n",
       "      <td>13</td>\n",
       "      <td>Canarsie</td>\n",
       "      <td>Brooklyn</td>\n",
       "      <td>4.77</td>\n",
       "      <td>4.77</td>\n",
       "      <td>4.85</td>\n",
       "      <td>4.92</td>\n",
       "      <td>4.85</td>\n",
       "    </tr>\n",
       "    <tr>\n",
       "      <th>2</th>\n",
       "      <td>461263600</td>\n",
       "      <td>Tommaso</td>\n",
       "      <td>$157.00</td>\n",
       "      <td>0</td>\n",
       "      <td>Tottenville</td>\n",
       "      <td>Staten Island</td>\n",
       "      <td>NaN</td>\n",
       "      <td>NaN</td>\n",
       "      <td>NaN</td>\n",
       "      <td>0.00</td>\n",
       "      <td>NaN</td>\n",
       "    </tr>\n",
       "    <tr>\n",
       "      <th>3</th>\n",
       "      <td>475699129</td>\n",
       "      <td>Suliman</td>\n",
       "      <td>$89.00</td>\n",
       "      <td>15</td>\n",
       "      <td>Sheepshead Bay</td>\n",
       "      <td>Brooklyn</td>\n",
       "      <td>5.00</td>\n",
       "      <td>4.87</td>\n",
       "      <td>5.00</td>\n",
       "      <td>5.00</td>\n",
       "      <td>5.00</td>\n",
       "    </tr>\n",
       "    <tr>\n",
       "      <th>4</th>\n",
       "      <td>397288055</td>\n",
       "      <td>Katherine</td>\n",
       "      <td>$125.00</td>\n",
       "      <td>25</td>\n",
       "      <td>North Riverdale</td>\n",
       "      <td>Bronx</td>\n",
       "      <td>4.56</td>\n",
       "      <td>4.44</td>\n",
       "      <td>4.72</td>\n",
       "      <td>4.64</td>\n",
       "      <td>4.72</td>\n",
       "    </tr>\n",
       "  </tbody>\n",
       "</table>\n",
       "</div>"
      ],
      "text/plain": [
       "     host_id  host_name     price  number_of_reviews neighbourhood_cleansed  \\\n",
       "0  495455523    Michael  $143.00                   0               Canarsie   \n",
       "1  488760226       Eric   $30.00                  13               Canarsie   \n",
       "2  461263600    Tommaso  $157.00                   0            Tottenville   \n",
       "3  475699129    Suliman   $89.00                  15         Sheepshead Bay   \n",
       "4  397288055  Katherine  $125.00                  25        North Riverdale   \n",
       "\n",
       "  neighbourhood_group_cleansed  review_scores_accuracy  \\\n",
       "0                     Brooklyn                     NaN   \n",
       "1                     Brooklyn                    4.77   \n",
       "2                Staten Island                     NaN   \n",
       "3                     Brooklyn                    5.00   \n",
       "4                        Bronx                    4.56   \n",
       "\n",
       "   review_scores_cleanliness  review_scores_checkin  review_scores_value  \\\n",
       "0                        NaN                    NaN                 0.00   \n",
       "1                       4.77                   4.85                 4.92   \n",
       "2                        NaN                    NaN                 0.00   \n",
       "3                       4.87                   5.00                 5.00   \n",
       "4                       4.44                   4.72                 4.64   \n",
       "\n",
       "   review_scores_location  \n",
       "0                     NaN  \n",
       "1                    4.85  \n",
       "2                     NaN  \n",
       "3                    5.00  \n",
       "4                    4.72  "
      ]
     },
     "execution_count": 37,
     "metadata": {},
     "output_type": "execute_result"
    }
   ],
   "source": [
    "file_df_filter.head()"
   ]
  },
  {
   "cell_type": "code",
   "execution_count": 38,
   "metadata": {},
   "outputs": [
    {
     "data": {
      "text/html": [
       "<div>\n",
       "<style scoped>\n",
       "    .dataframe tbody tr th:only-of-type {\n",
       "        vertical-align: middle;\n",
       "    }\n",
       "\n",
       "    .dataframe tbody tr th {\n",
       "        vertical-align: top;\n",
       "    }\n",
       "\n",
       "    .dataframe thead th {\n",
       "        text-align: right;\n",
       "    }\n",
       "</style>\n",
       "<table border=\"1\" class=\"dataframe\">\n",
       "  <thead>\n",
       "    <tr style=\"text-align: right;\">\n",
       "      <th></th>\n",
       "      <th>host_id</th>\n",
       "      <th>host_name</th>\n",
       "      <th>number_of_reviews</th>\n",
       "    </tr>\n",
       "  </thead>\n",
       "  <tbody>\n",
       "    <tr>\n",
       "      <th>20884</th>\n",
       "      <td>219517861</td>\n",
       "      <td>Sonder (NYC)</td>\n",
       "      <td>6697</td>\n",
       "    </tr>\n",
       "    <tr>\n",
       "      <th>24014</th>\n",
       "      <td>371972456</td>\n",
       "      <td>Justin</td>\n",
       "      <td>4764</td>\n",
       "    </tr>\n",
       "    <tr>\n",
       "      <th>12707</th>\n",
       "      <td>40176101</td>\n",
       "      <td>Brady</td>\n",
       "      <td>3067</td>\n",
       "    </tr>\n",
       "    <tr>\n",
       "      <th>21261</th>\n",
       "      <td>232251881</td>\n",
       "      <td>Lakshmee</td>\n",
       "      <td>3066</td>\n",
       "    </tr>\n",
       "    <tr>\n",
       "      <th>22043</th>\n",
       "      <td>266755066</td>\n",
       "      <td>The Ridge</td>\n",
       "      <td>3049</td>\n",
       "    </tr>\n",
       "    <tr>\n",
       "      <th>23492</th>\n",
       "      <td>341752262</td>\n",
       "      <td>Henry</td>\n",
       "      <td>2785</td>\n",
       "    </tr>\n",
       "    <tr>\n",
       "      <th>21837</th>\n",
       "      <td>259169672</td>\n",
       "      <td>Arlo NoMad</td>\n",
       "      <td>2430</td>\n",
       "    </tr>\n",
       "    <tr>\n",
       "      <th>19267</th>\n",
       "      <td>156948703</td>\n",
       "      <td>Asad</td>\n",
       "      <td>2335</td>\n",
       "    </tr>\n",
       "    <tr>\n",
       "      <th>24933</th>\n",
       "      <td>417166424</td>\n",
       "      <td>Millennium Broadway</td>\n",
       "      <td>2205</td>\n",
       "    </tr>\n",
       "    <tr>\n",
       "      <th>24558</th>\n",
       "      <td>397872858</td>\n",
       "      <td>M</td>\n",
       "      <td>2099</td>\n",
       "    </tr>\n",
       "  </tbody>\n",
       "</table>\n",
       "</div>"
      ],
      "text/plain": [
       "         host_id            host_name  number_of_reviews\n",
       "20884  219517861         Sonder (NYC)               6697\n",
       "24014  371972456               Justin               4764\n",
       "12707   40176101                Brady               3067\n",
       "21261  232251881             Lakshmee               3066\n",
       "22043  266755066            The Ridge               3049\n",
       "23492  341752262                Henry               2785\n",
       "21837  259169672           Arlo NoMad               2430\n",
       "19267  156948703                 Asad               2335\n",
       "24933  417166424  Millennium Broadway               2205\n",
       "24558  397872858                    M               2099"
      ]
     },
     "execution_count": 38,
     "metadata": {},
     "output_type": "execute_result"
    }
   ],
   "source": [
    "#Grouping host_id and host_name and perform sum aggregation function\n",
    "groupby_host_id_and_host_name=file_df_filter.groupby(['host_id','host_name']).sum()[['number_of_reviews']].reset_index()\n",
    "highest_number_of_reviews=groupby_host_id_and_host_name.sort_values('number_of_reviews',ascending=False).head(10)\n",
    "highest_number_of_reviews"
   ]
  },
  {
   "cell_type": "code",
   "execution_count": 39,
   "metadata": {},
   "outputs": [
    {
     "data": {
      "application/vnd.plotly.v1+json": {
       "config": {
        "plotlyServerURL": "https://plot.ly"
       },
       "data": [
        {
         "alignmentgroup": "True",
         "hovertemplate": "host_id=219517861<br>host_name=%{x}<br>number_of_reviews=%{text}<extra></extra>",
         "legendgroup": "219517861",
         "marker": {
          "color": "#636efa",
          "opacity": 0.8,
          "pattern": {
           "shape": ""
          }
         },
         "name": "219517861",
         "offsetgroup": "219517861",
         "orientation": "v",
         "showlegend": true,
         "text": [
          6697
         ],
         "textfont": {
          "color": "black",
          "size": 15
         },
         "textposition": "auto",
         "type": "bar",
         "x": [
          "Sonder (NYC)"
         ],
         "xaxis": "x",
         "y": [
          6697
         ],
         "yaxis": "y"
        },
        {
         "alignmentgroup": "True",
         "hovertemplate": "host_id=371972456<br>host_name=%{x}<br>number_of_reviews=%{text}<extra></extra>",
         "legendgroup": "371972456",
         "marker": {
          "color": "#EF553B",
          "opacity": 0.8,
          "pattern": {
           "shape": ""
          }
         },
         "name": "371972456",
         "offsetgroup": "371972456",
         "orientation": "v",
         "showlegend": true,
         "text": [
          4764
         ],
         "textfont": {
          "color": "black",
          "size": 15
         },
         "textposition": "auto",
         "type": "bar",
         "x": [
          "Justin"
         ],
         "xaxis": "x",
         "y": [
          4764
         ],
         "yaxis": "y"
        },
        {
         "alignmentgroup": "True",
         "hovertemplate": "host_id=40176101<br>host_name=%{x}<br>number_of_reviews=%{text}<extra></extra>",
         "legendgroup": "40176101",
         "marker": {
          "color": "#00cc96",
          "opacity": 0.8,
          "pattern": {
           "shape": ""
          }
         },
         "name": "40176101",
         "offsetgroup": "40176101",
         "orientation": "v",
         "showlegend": true,
         "text": [
          3067
         ],
         "textfont": {
          "color": "black",
          "size": 15
         },
         "textposition": "auto",
         "type": "bar",
         "x": [
          "Brady"
         ],
         "xaxis": "x",
         "y": [
          3067
         ],
         "yaxis": "y"
        },
        {
         "alignmentgroup": "True",
         "hovertemplate": "host_id=232251881<br>host_name=%{x}<br>number_of_reviews=%{text}<extra></extra>",
         "legendgroup": "232251881",
         "marker": {
          "color": "#ab63fa",
          "opacity": 0.8,
          "pattern": {
           "shape": ""
          }
         },
         "name": "232251881",
         "offsetgroup": "232251881",
         "orientation": "v",
         "showlegend": true,
         "text": [
          3066
         ],
         "textfont": {
          "color": "black",
          "size": 15
         },
         "textposition": "auto",
         "type": "bar",
         "x": [
          "Lakshmee"
         ],
         "xaxis": "x",
         "y": [
          3066
         ],
         "yaxis": "y"
        },
        {
         "alignmentgroup": "True",
         "hovertemplate": "host_id=266755066<br>host_name=%{x}<br>number_of_reviews=%{text}<extra></extra>",
         "legendgroup": "266755066",
         "marker": {
          "color": "#FFA15A",
          "opacity": 0.8,
          "pattern": {
           "shape": ""
          }
         },
         "name": "266755066",
         "offsetgroup": "266755066",
         "orientation": "v",
         "showlegend": true,
         "text": [
          3049
         ],
         "textfont": {
          "color": "black",
          "size": 15
         },
         "textposition": "auto",
         "type": "bar",
         "x": [
          "The Ridge"
         ],
         "xaxis": "x",
         "y": [
          3049
         ],
         "yaxis": "y"
        },
        {
         "alignmentgroup": "True",
         "hovertemplate": "host_id=341752262<br>host_name=%{x}<br>number_of_reviews=%{text}<extra></extra>",
         "legendgroup": "341752262",
         "marker": {
          "color": "#19d3f3",
          "opacity": 0.8,
          "pattern": {
           "shape": ""
          }
         },
         "name": "341752262",
         "offsetgroup": "341752262",
         "orientation": "v",
         "showlegend": true,
         "text": [
          2785
         ],
         "textfont": {
          "color": "black",
          "size": 15
         },
         "textposition": "auto",
         "type": "bar",
         "x": [
          "Henry"
         ],
         "xaxis": "x",
         "y": [
          2785
         ],
         "yaxis": "y"
        },
        {
         "alignmentgroup": "True",
         "hovertemplate": "host_id=259169672<br>host_name=%{x}<br>number_of_reviews=%{text}<extra></extra>",
         "legendgroup": "259169672",
         "marker": {
          "color": "#FF6692",
          "opacity": 0.8,
          "pattern": {
           "shape": ""
          }
         },
         "name": "259169672",
         "offsetgroup": "259169672",
         "orientation": "v",
         "showlegend": true,
         "text": [
          2430
         ],
         "textfont": {
          "color": "black",
          "size": 15
         },
         "textposition": "auto",
         "type": "bar",
         "x": [
          "Arlo NoMad"
         ],
         "xaxis": "x",
         "y": [
          2430
         ],
         "yaxis": "y"
        },
        {
         "alignmentgroup": "True",
         "hovertemplate": "host_id=156948703<br>host_name=%{x}<br>number_of_reviews=%{text}<extra></extra>",
         "legendgroup": "156948703",
         "marker": {
          "color": "#B6E880",
          "opacity": 0.8,
          "pattern": {
           "shape": ""
          }
         },
         "name": "156948703",
         "offsetgroup": "156948703",
         "orientation": "v",
         "showlegend": true,
         "text": [
          2335
         ],
         "textfont": {
          "color": "black",
          "size": 15
         },
         "textposition": "auto",
         "type": "bar",
         "x": [
          "Asad"
         ],
         "xaxis": "x",
         "y": [
          2335
         ],
         "yaxis": "y"
        },
        {
         "alignmentgroup": "True",
         "hovertemplate": "host_id=417166424<br>host_name=%{x}<br>number_of_reviews=%{text}<extra></extra>",
         "legendgroup": "417166424",
         "marker": {
          "color": "#FF97FF",
          "opacity": 0.8,
          "pattern": {
           "shape": ""
          }
         },
         "name": "417166424",
         "offsetgroup": "417166424",
         "orientation": "v",
         "showlegend": true,
         "text": [
          2205
         ],
         "textfont": {
          "color": "black",
          "size": 15
         },
         "textposition": "auto",
         "type": "bar",
         "x": [
          "Millennium Broadway"
         ],
         "xaxis": "x",
         "y": [
          2205
         ],
         "yaxis": "y"
        },
        {
         "alignmentgroup": "True",
         "hovertemplate": "host_id=397872858<br>host_name=%{x}<br>number_of_reviews=%{text}<extra></extra>",
         "legendgroup": "397872858",
         "marker": {
          "color": "#FECB52",
          "opacity": 0.8,
          "pattern": {
           "shape": ""
          }
         },
         "name": "397872858",
         "offsetgroup": "397872858",
         "orientation": "v",
         "showlegend": true,
         "text": [
          2099
         ],
         "textfont": {
          "color": "black",
          "size": 15
         },
         "textposition": "auto",
         "type": "bar",
         "x": [
          "M"
         ],
         "xaxis": "x",
         "y": [
          2099
         ],
         "yaxis": "y"
        }
       ],
       "layout": {
        "barmode": "relative",
        "legend": {
         "title": {
          "text": "host_id"
         },
         "tracegroupgap": 0
        },
        "margin": {
         "t": 60
        },
        "plot_bgcolor": "white",
        "template": {
         "data": {
          "bar": [
           {
            "error_x": {
             "color": "#2a3f5f"
            },
            "error_y": {
             "color": "#2a3f5f"
            },
            "marker": {
             "line": {
              "color": "#E5ECF6",
              "width": 0.5
             },
             "pattern": {
              "fillmode": "overlay",
              "size": 10,
              "solidity": 0.2
             }
            },
            "type": "bar"
           }
          ],
          "barpolar": [
           {
            "marker": {
             "line": {
              "color": "#E5ECF6",
              "width": 0.5
             },
             "pattern": {
              "fillmode": "overlay",
              "size": 10,
              "solidity": 0.2
             }
            },
            "type": "barpolar"
           }
          ],
          "carpet": [
           {
            "aaxis": {
             "endlinecolor": "#2a3f5f",
             "gridcolor": "white",
             "linecolor": "white",
             "minorgridcolor": "white",
             "startlinecolor": "#2a3f5f"
            },
            "baxis": {
             "endlinecolor": "#2a3f5f",
             "gridcolor": "white",
             "linecolor": "white",
             "minorgridcolor": "white",
             "startlinecolor": "#2a3f5f"
            },
            "type": "carpet"
           }
          ],
          "choropleth": [
           {
            "colorbar": {
             "outlinewidth": 0,
             "ticks": ""
            },
            "type": "choropleth"
           }
          ],
          "contour": [
           {
            "colorbar": {
             "outlinewidth": 0,
             "ticks": ""
            },
            "colorscale": [
             [
              0,
              "#0d0887"
             ],
             [
              0.1111111111111111,
              "#46039f"
             ],
             [
              0.2222222222222222,
              "#7201a8"
             ],
             [
              0.3333333333333333,
              "#9c179e"
             ],
             [
              0.4444444444444444,
              "#bd3786"
             ],
             [
              0.5555555555555556,
              "#d8576b"
             ],
             [
              0.6666666666666666,
              "#ed7953"
             ],
             [
              0.7777777777777778,
              "#fb9f3a"
             ],
             [
              0.8888888888888888,
              "#fdca26"
             ],
             [
              1,
              "#f0f921"
             ]
            ],
            "type": "contour"
           }
          ],
          "contourcarpet": [
           {
            "colorbar": {
             "outlinewidth": 0,
             "ticks": ""
            },
            "type": "contourcarpet"
           }
          ],
          "heatmap": [
           {
            "colorbar": {
             "outlinewidth": 0,
             "ticks": ""
            },
            "colorscale": [
             [
              0,
              "#0d0887"
             ],
             [
              0.1111111111111111,
              "#46039f"
             ],
             [
              0.2222222222222222,
              "#7201a8"
             ],
             [
              0.3333333333333333,
              "#9c179e"
             ],
             [
              0.4444444444444444,
              "#bd3786"
             ],
             [
              0.5555555555555556,
              "#d8576b"
             ],
             [
              0.6666666666666666,
              "#ed7953"
             ],
             [
              0.7777777777777778,
              "#fb9f3a"
             ],
             [
              0.8888888888888888,
              "#fdca26"
             ],
             [
              1,
              "#f0f921"
             ]
            ],
            "type": "heatmap"
           }
          ],
          "heatmapgl": [
           {
            "colorbar": {
             "outlinewidth": 0,
             "ticks": ""
            },
            "colorscale": [
             [
              0,
              "#0d0887"
             ],
             [
              0.1111111111111111,
              "#46039f"
             ],
             [
              0.2222222222222222,
              "#7201a8"
             ],
             [
              0.3333333333333333,
              "#9c179e"
             ],
             [
              0.4444444444444444,
              "#bd3786"
             ],
             [
              0.5555555555555556,
              "#d8576b"
             ],
             [
              0.6666666666666666,
              "#ed7953"
             ],
             [
              0.7777777777777778,
              "#fb9f3a"
             ],
             [
              0.8888888888888888,
              "#fdca26"
             ],
             [
              1,
              "#f0f921"
             ]
            ],
            "type": "heatmapgl"
           }
          ],
          "histogram": [
           {
            "marker": {
             "pattern": {
              "fillmode": "overlay",
              "size": 10,
              "solidity": 0.2
             }
            },
            "type": "histogram"
           }
          ],
          "histogram2d": [
           {
            "colorbar": {
             "outlinewidth": 0,
             "ticks": ""
            },
            "colorscale": [
             [
              0,
              "#0d0887"
             ],
             [
              0.1111111111111111,
              "#46039f"
             ],
             [
              0.2222222222222222,
              "#7201a8"
             ],
             [
              0.3333333333333333,
              "#9c179e"
             ],
             [
              0.4444444444444444,
              "#bd3786"
             ],
             [
              0.5555555555555556,
              "#d8576b"
             ],
             [
              0.6666666666666666,
              "#ed7953"
             ],
             [
              0.7777777777777778,
              "#fb9f3a"
             ],
             [
              0.8888888888888888,
              "#fdca26"
             ],
             [
              1,
              "#f0f921"
             ]
            ],
            "type": "histogram2d"
           }
          ],
          "histogram2dcontour": [
           {
            "colorbar": {
             "outlinewidth": 0,
             "ticks": ""
            },
            "colorscale": [
             [
              0,
              "#0d0887"
             ],
             [
              0.1111111111111111,
              "#46039f"
             ],
             [
              0.2222222222222222,
              "#7201a8"
             ],
             [
              0.3333333333333333,
              "#9c179e"
             ],
             [
              0.4444444444444444,
              "#bd3786"
             ],
             [
              0.5555555555555556,
              "#d8576b"
             ],
             [
              0.6666666666666666,
              "#ed7953"
             ],
             [
              0.7777777777777778,
              "#fb9f3a"
             ],
             [
              0.8888888888888888,
              "#fdca26"
             ],
             [
              1,
              "#f0f921"
             ]
            ],
            "type": "histogram2dcontour"
           }
          ],
          "mesh3d": [
           {
            "colorbar": {
             "outlinewidth": 0,
             "ticks": ""
            },
            "type": "mesh3d"
           }
          ],
          "parcoords": [
           {
            "line": {
             "colorbar": {
              "outlinewidth": 0,
              "ticks": ""
             }
            },
            "type": "parcoords"
           }
          ],
          "pie": [
           {
            "automargin": true,
            "type": "pie"
           }
          ],
          "scatter": [
           {
            "fillpattern": {
             "fillmode": "overlay",
             "size": 10,
             "solidity": 0.2
            },
            "type": "scatter"
           }
          ],
          "scatter3d": [
           {
            "line": {
             "colorbar": {
              "outlinewidth": 0,
              "ticks": ""
             }
            },
            "marker": {
             "colorbar": {
              "outlinewidth": 0,
              "ticks": ""
             }
            },
            "type": "scatter3d"
           }
          ],
          "scattercarpet": [
           {
            "marker": {
             "colorbar": {
              "outlinewidth": 0,
              "ticks": ""
             }
            },
            "type": "scattercarpet"
           }
          ],
          "scattergeo": [
           {
            "marker": {
             "colorbar": {
              "outlinewidth": 0,
              "ticks": ""
             }
            },
            "type": "scattergeo"
           }
          ],
          "scattergl": [
           {
            "marker": {
             "colorbar": {
              "outlinewidth": 0,
              "ticks": ""
             }
            },
            "type": "scattergl"
           }
          ],
          "scattermapbox": [
           {
            "marker": {
             "colorbar": {
              "outlinewidth": 0,
              "ticks": ""
             }
            },
            "type": "scattermapbox"
           }
          ],
          "scatterpolar": [
           {
            "marker": {
             "colorbar": {
              "outlinewidth": 0,
              "ticks": ""
             }
            },
            "type": "scatterpolar"
           }
          ],
          "scatterpolargl": [
           {
            "marker": {
             "colorbar": {
              "outlinewidth": 0,
              "ticks": ""
             }
            },
            "type": "scatterpolargl"
           }
          ],
          "scatterternary": [
           {
            "marker": {
             "colorbar": {
              "outlinewidth": 0,
              "ticks": ""
             }
            },
            "type": "scatterternary"
           }
          ],
          "surface": [
           {
            "colorbar": {
             "outlinewidth": 0,
             "ticks": ""
            },
            "colorscale": [
             [
              0,
              "#0d0887"
             ],
             [
              0.1111111111111111,
              "#46039f"
             ],
             [
              0.2222222222222222,
              "#7201a8"
             ],
             [
              0.3333333333333333,
              "#9c179e"
             ],
             [
              0.4444444444444444,
              "#bd3786"
             ],
             [
              0.5555555555555556,
              "#d8576b"
             ],
             [
              0.6666666666666666,
              "#ed7953"
             ],
             [
              0.7777777777777778,
              "#fb9f3a"
             ],
             [
              0.8888888888888888,
              "#fdca26"
             ],
             [
              1,
              "#f0f921"
             ]
            ],
            "type": "surface"
           }
          ],
          "table": [
           {
            "cells": {
             "fill": {
              "color": "#EBF0F8"
             },
             "line": {
              "color": "white"
             }
            },
            "header": {
             "fill": {
              "color": "#C8D4E3"
             },
             "line": {
              "color": "white"
             }
            },
            "type": "table"
           }
          ]
         },
         "layout": {
          "annotationdefaults": {
           "arrowcolor": "#2a3f5f",
           "arrowhead": 0,
           "arrowwidth": 1
          },
          "autotypenumbers": "strict",
          "coloraxis": {
           "colorbar": {
            "outlinewidth": 0,
            "ticks": ""
           }
          },
          "colorscale": {
           "diverging": [
            [
             0,
             "#8e0152"
            ],
            [
             0.1,
             "#c51b7d"
            ],
            [
             0.2,
             "#de77ae"
            ],
            [
             0.3,
             "#f1b6da"
            ],
            [
             0.4,
             "#fde0ef"
            ],
            [
             0.5,
             "#f7f7f7"
            ],
            [
             0.6,
             "#e6f5d0"
            ],
            [
             0.7,
             "#b8e186"
            ],
            [
             0.8,
             "#7fbc41"
            ],
            [
             0.9,
             "#4d9221"
            ],
            [
             1,
             "#276419"
            ]
           ],
           "sequential": [
            [
             0,
             "#0d0887"
            ],
            [
             0.1111111111111111,
             "#46039f"
            ],
            [
             0.2222222222222222,
             "#7201a8"
            ],
            [
             0.3333333333333333,
             "#9c179e"
            ],
            [
             0.4444444444444444,
             "#bd3786"
            ],
            [
             0.5555555555555556,
             "#d8576b"
            ],
            [
             0.6666666666666666,
             "#ed7953"
            ],
            [
             0.7777777777777778,
             "#fb9f3a"
            ],
            [
             0.8888888888888888,
             "#fdca26"
            ],
            [
             1,
             "#f0f921"
            ]
           ],
           "sequentialminus": [
            [
             0,
             "#0d0887"
            ],
            [
             0.1111111111111111,
             "#46039f"
            ],
            [
             0.2222222222222222,
             "#7201a8"
            ],
            [
             0.3333333333333333,
             "#9c179e"
            ],
            [
             0.4444444444444444,
             "#bd3786"
            ],
            [
             0.5555555555555556,
             "#d8576b"
            ],
            [
             0.6666666666666666,
             "#ed7953"
            ],
            [
             0.7777777777777778,
             "#fb9f3a"
            ],
            [
             0.8888888888888888,
             "#fdca26"
            ],
            [
             1,
             "#f0f921"
            ]
           ]
          },
          "colorway": [
           "#636efa",
           "#EF553B",
           "#00cc96",
           "#ab63fa",
           "#FFA15A",
           "#19d3f3",
           "#FF6692",
           "#B6E880",
           "#FF97FF",
           "#FECB52"
          ],
          "font": {
           "color": "#2a3f5f"
          },
          "geo": {
           "bgcolor": "white",
           "lakecolor": "white",
           "landcolor": "#E5ECF6",
           "showlakes": true,
           "showland": true,
           "subunitcolor": "white"
          },
          "hoverlabel": {
           "align": "left"
          },
          "hovermode": "closest",
          "mapbox": {
           "style": "light"
          },
          "paper_bgcolor": "white",
          "plot_bgcolor": "#E5ECF6",
          "polar": {
           "angularaxis": {
            "gridcolor": "white",
            "linecolor": "white",
            "ticks": ""
           },
           "bgcolor": "#E5ECF6",
           "radialaxis": {
            "gridcolor": "white",
            "linecolor": "white",
            "ticks": ""
           }
          },
          "scene": {
           "xaxis": {
            "backgroundcolor": "#E5ECF6",
            "gridcolor": "white",
            "gridwidth": 2,
            "linecolor": "white",
            "showbackground": true,
            "ticks": "",
            "zerolinecolor": "white"
           },
           "yaxis": {
            "backgroundcolor": "#E5ECF6",
            "gridcolor": "white",
            "gridwidth": 2,
            "linecolor": "white",
            "showbackground": true,
            "ticks": "",
            "zerolinecolor": "white"
           },
           "zaxis": {
            "backgroundcolor": "#E5ECF6",
            "gridcolor": "white",
            "gridwidth": 2,
            "linecolor": "white",
            "showbackground": true,
            "ticks": "",
            "zerolinecolor": "white"
           }
          },
          "shapedefaults": {
           "line": {
            "color": "#2a3f5f"
           }
          },
          "ternary": {
           "aaxis": {
            "gridcolor": "white",
            "linecolor": "white",
            "ticks": ""
           },
           "baxis": {
            "gridcolor": "white",
            "linecolor": "white",
            "ticks": ""
           },
           "bgcolor": "#E5ECF6",
           "caxis": {
            "gridcolor": "white",
            "linecolor": "white",
            "ticks": ""
           }
          },
          "title": {
           "x": 0.05
          },
          "xaxis": {
           "automargin": true,
           "gridcolor": "white",
           "linecolor": "white",
           "ticks": "",
           "title": {
            "standoff": 15
           },
           "zerolinecolor": "white",
           "zerolinewidth": 2
          },
          "yaxis": {
           "automargin": true,
           "gridcolor": "white",
           "linecolor": "white",
           "ticks": "",
           "title": {
            "standoff": 15
           },
           "zerolinecolor": "white",
           "zerolinewidth": 2
          }
         }
        },
        "title": {
         "text": "Host has the highest number of reviews"
        },
        "xaxis": {
         "anchor": "y",
         "domain": [
          0,
          1
         ],
         "tickfont": {
          "size": 14
         },
         "title": {
          "font": {
           "size": 15
          },
          "text": "host_name"
         }
        },
        "yaxis": {
         "anchor": "x",
         "domain": [
          0,
          1
         ],
         "gridcolor": "red",
         "showgrid": true,
         "showticklabels": true,
         "tickfont": {
          "size": 13
         },
         "title": {
          "font": {
           "size": 15
          },
          "text": "number_of_reviews"
         }
        }
       }
      },
      "text/html": [
       "<div>                            <div id=\"fbf2d746-a41b-4d99-a1d7-c42034260aa5\" class=\"plotly-graph-div\" style=\"height:525px; width:100%;\"></div>            <script type=\"text/javascript\">                require([\"plotly\"], function(Plotly) {                    window.PLOTLYENV=window.PLOTLYENV || {};                                    if (document.getElementById(\"fbf2d746-a41b-4d99-a1d7-c42034260aa5\")) {                    Plotly.newPlot(                        \"fbf2d746-a41b-4d99-a1d7-c42034260aa5\",                        [{\"alignmentgroup\":\"True\",\"hovertemplate\":\"host_id=219517861<br>host_name=%{x}<br>number_of_reviews=%{text}<extra></extra>\",\"legendgroup\":\"219517861\",\"marker\":{\"color\":\"#636efa\",\"opacity\":0.8,\"pattern\":{\"shape\":\"\"}},\"name\":\"219517861\",\"offsetgroup\":\"219517861\",\"orientation\":\"v\",\"showlegend\":true,\"text\":[6697.0],\"textposition\":\"auto\",\"x\":[\"Sonder (NYC)\"],\"xaxis\":\"x\",\"y\":[6697],\"yaxis\":\"y\",\"type\":\"bar\",\"textfont\":{\"color\":\"black\",\"size\":15}},{\"alignmentgroup\":\"True\",\"hovertemplate\":\"host_id=371972456<br>host_name=%{x}<br>number_of_reviews=%{text}<extra></extra>\",\"legendgroup\":\"371972456\",\"marker\":{\"color\":\"#EF553B\",\"opacity\":0.8,\"pattern\":{\"shape\":\"\"}},\"name\":\"371972456\",\"offsetgroup\":\"371972456\",\"orientation\":\"v\",\"showlegend\":true,\"text\":[4764.0],\"textposition\":\"auto\",\"x\":[\"Justin\"],\"xaxis\":\"x\",\"y\":[4764],\"yaxis\":\"y\",\"type\":\"bar\",\"textfont\":{\"color\":\"black\",\"size\":15}},{\"alignmentgroup\":\"True\",\"hovertemplate\":\"host_id=40176101<br>host_name=%{x}<br>number_of_reviews=%{text}<extra></extra>\",\"legendgroup\":\"40176101\",\"marker\":{\"color\":\"#00cc96\",\"opacity\":0.8,\"pattern\":{\"shape\":\"\"}},\"name\":\"40176101\",\"offsetgroup\":\"40176101\",\"orientation\":\"v\",\"showlegend\":true,\"text\":[3067.0],\"textposition\":\"auto\",\"x\":[\"Brady\"],\"xaxis\":\"x\",\"y\":[3067],\"yaxis\":\"y\",\"type\":\"bar\",\"textfont\":{\"color\":\"black\",\"size\":15}},{\"alignmentgroup\":\"True\",\"hovertemplate\":\"host_id=232251881<br>host_name=%{x}<br>number_of_reviews=%{text}<extra></extra>\",\"legendgroup\":\"232251881\",\"marker\":{\"color\":\"#ab63fa\",\"opacity\":0.8,\"pattern\":{\"shape\":\"\"}},\"name\":\"232251881\",\"offsetgroup\":\"232251881\",\"orientation\":\"v\",\"showlegend\":true,\"text\":[3066.0],\"textposition\":\"auto\",\"x\":[\"Lakshmee\"],\"xaxis\":\"x\",\"y\":[3066],\"yaxis\":\"y\",\"type\":\"bar\",\"textfont\":{\"color\":\"black\",\"size\":15}},{\"alignmentgroup\":\"True\",\"hovertemplate\":\"host_id=266755066<br>host_name=%{x}<br>number_of_reviews=%{text}<extra></extra>\",\"legendgroup\":\"266755066\",\"marker\":{\"color\":\"#FFA15A\",\"opacity\":0.8,\"pattern\":{\"shape\":\"\"}},\"name\":\"266755066\",\"offsetgroup\":\"266755066\",\"orientation\":\"v\",\"showlegend\":true,\"text\":[3049.0],\"textposition\":\"auto\",\"x\":[\"The Ridge\"],\"xaxis\":\"x\",\"y\":[3049],\"yaxis\":\"y\",\"type\":\"bar\",\"textfont\":{\"color\":\"black\",\"size\":15}},{\"alignmentgroup\":\"True\",\"hovertemplate\":\"host_id=341752262<br>host_name=%{x}<br>number_of_reviews=%{text}<extra></extra>\",\"legendgroup\":\"341752262\",\"marker\":{\"color\":\"#19d3f3\",\"opacity\":0.8,\"pattern\":{\"shape\":\"\"}},\"name\":\"341752262\",\"offsetgroup\":\"341752262\",\"orientation\":\"v\",\"showlegend\":true,\"text\":[2785.0],\"textposition\":\"auto\",\"x\":[\"Henry\"],\"xaxis\":\"x\",\"y\":[2785],\"yaxis\":\"y\",\"type\":\"bar\",\"textfont\":{\"color\":\"black\",\"size\":15}},{\"alignmentgroup\":\"True\",\"hovertemplate\":\"host_id=259169672<br>host_name=%{x}<br>number_of_reviews=%{text}<extra></extra>\",\"legendgroup\":\"259169672\",\"marker\":{\"color\":\"#FF6692\",\"opacity\":0.8,\"pattern\":{\"shape\":\"\"}},\"name\":\"259169672\",\"offsetgroup\":\"259169672\",\"orientation\":\"v\",\"showlegend\":true,\"text\":[2430.0],\"textposition\":\"auto\",\"x\":[\"Arlo NoMad\"],\"xaxis\":\"x\",\"y\":[2430],\"yaxis\":\"y\",\"type\":\"bar\",\"textfont\":{\"color\":\"black\",\"size\":15}},{\"alignmentgroup\":\"True\",\"hovertemplate\":\"host_id=156948703<br>host_name=%{x}<br>number_of_reviews=%{text}<extra></extra>\",\"legendgroup\":\"156948703\",\"marker\":{\"color\":\"#B6E880\",\"opacity\":0.8,\"pattern\":{\"shape\":\"\"}},\"name\":\"156948703\",\"offsetgroup\":\"156948703\",\"orientation\":\"v\",\"showlegend\":true,\"text\":[2335.0],\"textposition\":\"auto\",\"x\":[\"Asad\"],\"xaxis\":\"x\",\"y\":[2335],\"yaxis\":\"y\",\"type\":\"bar\",\"textfont\":{\"color\":\"black\",\"size\":15}},{\"alignmentgroup\":\"True\",\"hovertemplate\":\"host_id=417166424<br>host_name=%{x}<br>number_of_reviews=%{text}<extra></extra>\",\"legendgroup\":\"417166424\",\"marker\":{\"color\":\"#FF97FF\",\"opacity\":0.8,\"pattern\":{\"shape\":\"\"}},\"name\":\"417166424\",\"offsetgroup\":\"417166424\",\"orientation\":\"v\",\"showlegend\":true,\"text\":[2205.0],\"textposition\":\"auto\",\"x\":[\"Millennium Broadway\"],\"xaxis\":\"x\",\"y\":[2205],\"yaxis\":\"y\",\"type\":\"bar\",\"textfont\":{\"color\":\"black\",\"size\":15}},{\"alignmentgroup\":\"True\",\"hovertemplate\":\"host_id=397872858<br>host_name=%{x}<br>number_of_reviews=%{text}<extra></extra>\",\"legendgroup\":\"397872858\",\"marker\":{\"color\":\"#FECB52\",\"opacity\":0.8,\"pattern\":{\"shape\":\"\"}},\"name\":\"397872858\",\"offsetgroup\":\"397872858\",\"orientation\":\"v\",\"showlegend\":true,\"text\":[2099.0],\"textposition\":\"auto\",\"x\":[\"M\"],\"xaxis\":\"x\",\"y\":[2099],\"yaxis\":\"y\",\"type\":\"bar\",\"textfont\":{\"color\":\"black\",\"size\":15}}],                        {\"template\":{\"data\":{\"histogram2dcontour\":[{\"type\":\"histogram2dcontour\",\"colorbar\":{\"outlinewidth\":0,\"ticks\":\"\"},\"colorscale\":[[0.0,\"#0d0887\"],[0.1111111111111111,\"#46039f\"],[0.2222222222222222,\"#7201a8\"],[0.3333333333333333,\"#9c179e\"],[0.4444444444444444,\"#bd3786\"],[0.5555555555555556,\"#d8576b\"],[0.6666666666666666,\"#ed7953\"],[0.7777777777777778,\"#fb9f3a\"],[0.8888888888888888,\"#fdca26\"],[1.0,\"#f0f921\"]]}],\"choropleth\":[{\"type\":\"choropleth\",\"colorbar\":{\"outlinewidth\":0,\"ticks\":\"\"}}],\"histogram2d\":[{\"type\":\"histogram2d\",\"colorbar\":{\"outlinewidth\":0,\"ticks\":\"\"},\"colorscale\":[[0.0,\"#0d0887\"],[0.1111111111111111,\"#46039f\"],[0.2222222222222222,\"#7201a8\"],[0.3333333333333333,\"#9c179e\"],[0.4444444444444444,\"#bd3786\"],[0.5555555555555556,\"#d8576b\"],[0.6666666666666666,\"#ed7953\"],[0.7777777777777778,\"#fb9f3a\"],[0.8888888888888888,\"#fdca26\"],[1.0,\"#f0f921\"]]}],\"heatmap\":[{\"type\":\"heatmap\",\"colorbar\":{\"outlinewidth\":0,\"ticks\":\"\"},\"colorscale\":[[0.0,\"#0d0887\"],[0.1111111111111111,\"#46039f\"],[0.2222222222222222,\"#7201a8\"],[0.3333333333333333,\"#9c179e\"],[0.4444444444444444,\"#bd3786\"],[0.5555555555555556,\"#d8576b\"],[0.6666666666666666,\"#ed7953\"],[0.7777777777777778,\"#fb9f3a\"],[0.8888888888888888,\"#fdca26\"],[1.0,\"#f0f921\"]]}],\"heatmapgl\":[{\"type\":\"heatmapgl\",\"colorbar\":{\"outlinewidth\":0,\"ticks\":\"\"},\"colorscale\":[[0.0,\"#0d0887\"],[0.1111111111111111,\"#46039f\"],[0.2222222222222222,\"#7201a8\"],[0.3333333333333333,\"#9c179e\"],[0.4444444444444444,\"#bd3786\"],[0.5555555555555556,\"#d8576b\"],[0.6666666666666666,\"#ed7953\"],[0.7777777777777778,\"#fb9f3a\"],[0.8888888888888888,\"#fdca26\"],[1.0,\"#f0f921\"]]}],\"contourcarpet\":[{\"type\":\"contourcarpet\",\"colorbar\":{\"outlinewidth\":0,\"ticks\":\"\"}}],\"contour\":[{\"type\":\"contour\",\"colorbar\":{\"outlinewidth\":0,\"ticks\":\"\"},\"colorscale\":[[0.0,\"#0d0887\"],[0.1111111111111111,\"#46039f\"],[0.2222222222222222,\"#7201a8\"],[0.3333333333333333,\"#9c179e\"],[0.4444444444444444,\"#bd3786\"],[0.5555555555555556,\"#d8576b\"],[0.6666666666666666,\"#ed7953\"],[0.7777777777777778,\"#fb9f3a\"],[0.8888888888888888,\"#fdca26\"],[1.0,\"#f0f921\"]]}],\"surface\":[{\"type\":\"surface\",\"colorbar\":{\"outlinewidth\":0,\"ticks\":\"\"},\"colorscale\":[[0.0,\"#0d0887\"],[0.1111111111111111,\"#46039f\"],[0.2222222222222222,\"#7201a8\"],[0.3333333333333333,\"#9c179e\"],[0.4444444444444444,\"#bd3786\"],[0.5555555555555556,\"#d8576b\"],[0.6666666666666666,\"#ed7953\"],[0.7777777777777778,\"#fb9f3a\"],[0.8888888888888888,\"#fdca26\"],[1.0,\"#f0f921\"]]}],\"mesh3d\":[{\"type\":\"mesh3d\",\"colorbar\":{\"outlinewidth\":0,\"ticks\":\"\"}}],\"scatter\":[{\"fillpattern\":{\"fillmode\":\"overlay\",\"size\":10,\"solidity\":0.2},\"type\":\"scatter\"}],\"parcoords\":[{\"type\":\"parcoords\",\"line\":{\"colorbar\":{\"outlinewidth\":0,\"ticks\":\"\"}}}],\"scatterpolargl\":[{\"type\":\"scatterpolargl\",\"marker\":{\"colorbar\":{\"outlinewidth\":0,\"ticks\":\"\"}}}],\"bar\":[{\"error_x\":{\"color\":\"#2a3f5f\"},\"error_y\":{\"color\":\"#2a3f5f\"},\"marker\":{\"line\":{\"color\":\"#E5ECF6\",\"width\":0.5},\"pattern\":{\"fillmode\":\"overlay\",\"size\":10,\"solidity\":0.2}},\"type\":\"bar\"}],\"scattergeo\":[{\"type\":\"scattergeo\",\"marker\":{\"colorbar\":{\"outlinewidth\":0,\"ticks\":\"\"}}}],\"scatterpolar\":[{\"type\":\"scatterpolar\",\"marker\":{\"colorbar\":{\"outlinewidth\":0,\"ticks\":\"\"}}}],\"histogram\":[{\"marker\":{\"pattern\":{\"fillmode\":\"overlay\",\"size\":10,\"solidity\":0.2}},\"type\":\"histogram\"}],\"scattergl\":[{\"type\":\"scattergl\",\"marker\":{\"colorbar\":{\"outlinewidth\":0,\"ticks\":\"\"}}}],\"scatter3d\":[{\"type\":\"scatter3d\",\"line\":{\"colorbar\":{\"outlinewidth\":0,\"ticks\":\"\"}},\"marker\":{\"colorbar\":{\"outlinewidth\":0,\"ticks\":\"\"}}}],\"scattermapbox\":[{\"type\":\"scattermapbox\",\"marker\":{\"colorbar\":{\"outlinewidth\":0,\"ticks\":\"\"}}}],\"scatterternary\":[{\"type\":\"scatterternary\",\"marker\":{\"colorbar\":{\"outlinewidth\":0,\"ticks\":\"\"}}}],\"scattercarpet\":[{\"type\":\"scattercarpet\",\"marker\":{\"colorbar\":{\"outlinewidth\":0,\"ticks\":\"\"}}}],\"carpet\":[{\"aaxis\":{\"endlinecolor\":\"#2a3f5f\",\"gridcolor\":\"white\",\"linecolor\":\"white\",\"minorgridcolor\":\"white\",\"startlinecolor\":\"#2a3f5f\"},\"baxis\":{\"endlinecolor\":\"#2a3f5f\",\"gridcolor\":\"white\",\"linecolor\":\"white\",\"minorgridcolor\":\"white\",\"startlinecolor\":\"#2a3f5f\"},\"type\":\"carpet\"}],\"table\":[{\"cells\":{\"fill\":{\"color\":\"#EBF0F8\"},\"line\":{\"color\":\"white\"}},\"header\":{\"fill\":{\"color\":\"#C8D4E3\"},\"line\":{\"color\":\"white\"}},\"type\":\"table\"}],\"barpolar\":[{\"marker\":{\"line\":{\"color\":\"#E5ECF6\",\"width\":0.5},\"pattern\":{\"fillmode\":\"overlay\",\"size\":10,\"solidity\":0.2}},\"type\":\"barpolar\"}],\"pie\":[{\"automargin\":true,\"type\":\"pie\"}]},\"layout\":{\"autotypenumbers\":\"strict\",\"colorway\":[\"#636efa\",\"#EF553B\",\"#00cc96\",\"#ab63fa\",\"#FFA15A\",\"#19d3f3\",\"#FF6692\",\"#B6E880\",\"#FF97FF\",\"#FECB52\"],\"font\":{\"color\":\"#2a3f5f\"},\"hovermode\":\"closest\",\"hoverlabel\":{\"align\":\"left\"},\"paper_bgcolor\":\"white\",\"plot_bgcolor\":\"#E5ECF6\",\"polar\":{\"bgcolor\":\"#E5ECF6\",\"angularaxis\":{\"gridcolor\":\"white\",\"linecolor\":\"white\",\"ticks\":\"\"},\"radialaxis\":{\"gridcolor\":\"white\",\"linecolor\":\"white\",\"ticks\":\"\"}},\"ternary\":{\"bgcolor\":\"#E5ECF6\",\"aaxis\":{\"gridcolor\":\"white\",\"linecolor\":\"white\",\"ticks\":\"\"},\"baxis\":{\"gridcolor\":\"white\",\"linecolor\":\"white\",\"ticks\":\"\"},\"caxis\":{\"gridcolor\":\"white\",\"linecolor\":\"white\",\"ticks\":\"\"}},\"coloraxis\":{\"colorbar\":{\"outlinewidth\":0,\"ticks\":\"\"}},\"colorscale\":{\"sequential\":[[0.0,\"#0d0887\"],[0.1111111111111111,\"#46039f\"],[0.2222222222222222,\"#7201a8\"],[0.3333333333333333,\"#9c179e\"],[0.4444444444444444,\"#bd3786\"],[0.5555555555555556,\"#d8576b\"],[0.6666666666666666,\"#ed7953\"],[0.7777777777777778,\"#fb9f3a\"],[0.8888888888888888,\"#fdca26\"],[1.0,\"#f0f921\"]],\"sequentialminus\":[[0.0,\"#0d0887\"],[0.1111111111111111,\"#46039f\"],[0.2222222222222222,\"#7201a8\"],[0.3333333333333333,\"#9c179e\"],[0.4444444444444444,\"#bd3786\"],[0.5555555555555556,\"#d8576b\"],[0.6666666666666666,\"#ed7953\"],[0.7777777777777778,\"#fb9f3a\"],[0.8888888888888888,\"#fdca26\"],[1.0,\"#f0f921\"]],\"diverging\":[[0,\"#8e0152\"],[0.1,\"#c51b7d\"],[0.2,\"#de77ae\"],[0.3,\"#f1b6da\"],[0.4,\"#fde0ef\"],[0.5,\"#f7f7f7\"],[0.6,\"#e6f5d0\"],[0.7,\"#b8e186\"],[0.8,\"#7fbc41\"],[0.9,\"#4d9221\"],[1,\"#276419\"]]},\"xaxis\":{\"gridcolor\":\"white\",\"linecolor\":\"white\",\"ticks\":\"\",\"title\":{\"standoff\":15},\"zerolinecolor\":\"white\",\"automargin\":true,\"zerolinewidth\":2},\"yaxis\":{\"gridcolor\":\"white\",\"linecolor\":\"white\",\"ticks\":\"\",\"title\":{\"standoff\":15},\"zerolinecolor\":\"white\",\"automargin\":true,\"zerolinewidth\":2},\"scene\":{\"xaxis\":{\"backgroundcolor\":\"#E5ECF6\",\"gridcolor\":\"white\",\"linecolor\":\"white\",\"showbackground\":true,\"ticks\":\"\",\"zerolinecolor\":\"white\",\"gridwidth\":2},\"yaxis\":{\"backgroundcolor\":\"#E5ECF6\",\"gridcolor\":\"white\",\"linecolor\":\"white\",\"showbackground\":true,\"ticks\":\"\",\"zerolinecolor\":\"white\",\"gridwidth\":2},\"zaxis\":{\"backgroundcolor\":\"#E5ECF6\",\"gridcolor\":\"white\",\"linecolor\":\"white\",\"showbackground\":true,\"ticks\":\"\",\"zerolinecolor\":\"white\",\"gridwidth\":2}},\"shapedefaults\":{\"line\":{\"color\":\"#2a3f5f\"}},\"annotationdefaults\":{\"arrowcolor\":\"#2a3f5f\",\"arrowhead\":0,\"arrowwidth\":1},\"geo\":{\"bgcolor\":\"white\",\"landcolor\":\"#E5ECF6\",\"subunitcolor\":\"white\",\"showland\":true,\"showlakes\":true,\"lakecolor\":\"white\"},\"title\":{\"x\":0.05},\"mapbox\":{\"style\":\"light\"}}},\"xaxis\":{\"anchor\":\"y\",\"domain\":[0.0,1.0],\"title\":{\"text\":\"host_name\",\"font\":{\"size\":15}},\"tickfont\":{\"size\":14}},\"yaxis\":{\"anchor\":\"x\",\"domain\":[0.0,1.0],\"title\":{\"text\":\"number_of_reviews\",\"font\":{\"size\":15}},\"tickfont\":{\"size\":13},\"showgrid\":true,\"gridcolor\":\"red\",\"showticklabels\":true},\"legend\":{\"title\":{\"text\":\"host_id\"},\"tracegroupgap\":0},\"margin\":{\"t\":60},\"barmode\":\"relative\",\"title\":{\"text\":\"Host has the highest number of reviews\"},\"plot_bgcolor\":\"white\"},                        {\"responsive\": true}                    ).then(function(){\n",
       "                            \n",
       "var gd = document.getElementById('fbf2d746-a41b-4d99-a1d7-c42034260aa5');\n",
       "var x = new MutationObserver(function (mutations, observer) {{\n",
       "        var display = window.getComputedStyle(gd).display;\n",
       "        if (!display || display === 'none') {{\n",
       "            console.log([gd, 'removed!']);\n",
       "            Plotly.purge(gd);\n",
       "            observer.disconnect();\n",
       "        }}\n",
       "}});\n",
       "\n",
       "// Listen for the removal of the full notebook cells\n",
       "var notebookContainer = gd.closest('#notebook-container');\n",
       "if (notebookContainer) {{\n",
       "    x.observe(notebookContainer, {childList: true});\n",
       "}}\n",
       "\n",
       "// Listen for the clearing of the current output cell\n",
       "var outputEl = gd.closest('.output');\n",
       "if (outputEl) {{\n",
       "    x.observe(outputEl, {childList: true});\n",
       "}}\n",
       "\n",
       "                        })                };                });            </script>        </div>"
      ]
     },
     "metadata": {},
     "output_type": "display_data"
    }
   ],
   "source": [
    "#Replacing hostid with hypen symbol at end of each id. Because Plotly assumes it has integer\n",
    "highest_number_of_reviews['host_id']=highest_number_of_reviews['host_id'].astype('string')\n",
    "#plotting bar graph and styling with pattern shape\n",
    "fig = px.bar(highest_number_of_reviews, y='number_of_reviews', x='host_name', text='number_of_reviews',\n",
    "             color='host_id',opacity=.8)      \n",
    "#Updating traces and layout to beautify the plot and setting the font size\n",
    "fig.update_traces(textfont=dict(size=15,color='black'))\n",
    "fig.update_layout(title='Host has the highest number of reviews',xaxis=dict(titlefont = dict(size=15),tickfont = dict(size=14)),yaxis=dict(titlefont = dict(size=15),tickfont = dict(size=13),\n",
    "        showgrid=True,gridcolor='red',\n",
    "        showticklabels=True),plot_bgcolor='white')\n",
    "#show figure\n",
    "fig.show()"
>>>>>>> c7ac5215a7b68d953f6f61abe0cccebad2b71206
   ]
  },
  {
   "cell_type": "code",
   "execution_count": null,
   "metadata": {},
   "outputs": [],
   "source": []
  },
  {
   "cell_type": "code",
   "execution_count": null,
   "metadata": {},
   "outputs": [],
   "source": []
  }
 ],
 "metadata": {
  "kernelspec": {
   "display_name": "Python 3 (ipykernel)",
   "language": "python",
   "name": "python3"
  },
  "language_info": {
   "codemirror_mode": {
    "name": "ipython",
    "version": 3
   },
   "file_extension": ".py",
   "mimetype": "text/x-python",
   "name": "python",
   "nbconvert_exporter": "python",
   "pygments_lexer": "ipython3",
   "version": "3.10.10"
<<<<<<< HEAD
=======
  },
  "vscode": {
   "interpreter": {
    "hash": "5ef968622a5df0135d9578a2add3954e674010b07415b94d138622b02ee44074"
   }
>>>>>>> c7ac5215a7b68d953f6f61abe0cccebad2b71206
  }
 },
 "nbformat": 4,
 "nbformat_minor": 2
}
